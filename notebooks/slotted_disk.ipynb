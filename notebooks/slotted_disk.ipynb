{
 "cells": [
  {
   "cell_type": "code",
   "execution_count": 1,
   "metadata": {},
   "outputs": [],
   "source": [
    "from superfv import AdvectionSolver, initial_conditions\n",
    "import numpy as np\n",
    "import matplotlib.pyplot as plt"
   ]
  },
  {
   "cell_type": "code",
   "execution_count": 2,
   "metadata": {},
   "outputs": [
    {
     "name": "stderr",
     "output_type": "stream",
     "text": [
      "100%|██████████| 6.283185307179586/6.283185307179586 [00:29]   \n"
     ]
    }
   ],
   "source": [
    "def passive_square(x, y, z):\n",
    "    xc, yc = x - 0.5, y - 0.75\n",
    "    return np.where(\n",
    "        (np.abs(xc) < 0.15) & (np.abs(yc) < 0.15),\n",
    "        1.0,\n",
    "        0.0,\n",
    "    )\n",
    "\n",
    "\n",
    "solver = AdvectionSolver(\n",
    "    ic=initial_conditions.slotted_disk,\n",
    "    ic_passives={\"passive_square\": passive_square},\n",
    "    bcx=\"ic\",\n",
    "    bcy=\"ic\",\n",
    "    nx=64,\n",
    "    ny=64,\n",
    "    nz=1,\n",
    "    p=3,\n",
    "    interpolation_scheme=\"gauss-legendre\",\n",
    ")\n",
    "\n",
    "solver.run([np.pi, 2 * np.pi])"
   ]
  },
  {
   "cell_type": "code",
   "execution_count": 3,
   "metadata": {},
   "outputs": [
    {
     "data": {
      "image/png": "[encoded data removed]",
      "text/plain": [
       "<Figure size 1000x500 with 1 Axes>"
      ]
     },
     "metadata": {},
     "output_type": "display_data"
    }
   ],
   "source": [
    "fig, ax = plt.subplots(1, 1, figsize=(10, 5))\n",
    "solver.plot_2d_slice(ax, \"rho\", x=None, y=None)"
   ]
  },
  {
   "cell_type": "code",
   "execution_count": 4,
   "metadata": {},
   "outputs": [
    {
     "name": "stdout",
     "output_type": "stream",
     "text": [
      "Category                                    Time (s)\n",
      "----------------------------------------------------\n",
      "!FiniteVolumeSolver.run                        29.38\n",
      "!ODE_INT                                       29.35\n",
      "AdvectionSolver.advection_upwind                2.95\n",
      "AdvectionSolver.compute_dt_and_fluxes          27.94\n",
      "AdvectionSolver.get_dt                          0.23\n",
      "ExplicitODESolver.integrate                    29.38\n",
      "FiniteVolumeSolver.compute_numerical_fluxes     7.17\n",
      "FiniteVolumeSolver.f                           28.73\n",
      "FiniteVolumeSolver.interpolate                 12.70\n",
      "FiniteVolumeSolver.interpolate_face_nodes      18.37\n",
      "\n"
     ]
    }
   ],
   "source": [
    "print(solver.timer.report())"
   ]
  }
 ],
 "metadata": {
  "kernelspec": {
   "display_name": "superfv",
   "language": "python",
   "name": "python3"
  },
  "language_info": {
   "codemirror_mode": {
    "name": "ipython",
    "version": 3
   },
   "file_extension": ".py",
   "mimetype": "text/x-python",
   "name": "python",
   "nbconvert_exporter": "python",
   "pygments_lexer": "ipython3",
   "version": "3.12.8"
  }
 },
 "nbformat": 4,
 "nbformat_minor": 2
}
